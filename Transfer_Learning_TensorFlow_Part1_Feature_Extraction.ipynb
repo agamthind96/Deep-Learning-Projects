{
  "nbformat": 4,
  "nbformat_minor": 0,
  "metadata": {
    "colab": {
      "name": "Transfer-Learning-TensorFlow-Part1-Feature-Extraction.ipynb",
      "provenance": [],
      "authorship_tag": "ABX9TyOmv2MM+r5uv0JLoqSqhQCE",
      "include_colab_link": true
    },
    "kernelspec": {
      "name": "python3",
      "display_name": "Python 3"
    },
    "language_info": {
      "name": "python"
    }
  },
  "cells": [
    {
      "cell_type": "markdown",
      "metadata": {
        "id": "view-in-github",
        "colab_type": "text"
      },
      "source": [
        "<a href=\"https://colab.research.google.com/github/agamthind96/Deep-Learning-Projects/blob/main/Transfer_Learning_TensorFlow_Part1_Feature_Extraction.ipynb\" target=\"_parent\"><img src=\"https://colab.research.google.com/assets/colab-badge.svg\" alt=\"Open In Colab\"/></a>"
      ]
    },
    {
      "cell_type": "markdown",
      "metadata": {
        "id": "sSeyfciSICcG"
      },
      "source": [
        "# Transfer-Learning-TensorFlow-Part1-Feature-Extraction\n",
        "\n",
        "Transfer-Learning is leveraging a working model's existing architecture and learn patterns from it for our own problems.\n",
        "\n",
        "There are 2 main benefits :\n",
        "1. Can leverage an existing neural network architecture proven to work on problems similar to our own.\n",
        "2. Can leverage a working neural network architecture which has already learned patterns on similar data to our own, then we can adapt those pattern to our own data."
      ]
    },
    {
      "cell_type": "markdown",
      "metadata": {
        "id": "m_CauNyaIJ6P"
      },
      "source": [
        "## Downloading and becoming one with data"
      ]
    },
    {
      "cell_type": "code",
      "metadata": {
        "colab": {
          "base_uri": "https://localhost:8080/"
        },
        "id": "YLXDuVnsJtWd",
        "outputId": "22442f3b-9fca-4b62-d405-e904ae379c21"
      },
      "source": [
        "# Get data (10% of 10 food classes from Food101)\n",
        "import zipfile\n",
        "\n",
        "# Download the data\n",
        "!wget https://storage.googleapis.com/ztm_tf_course/food_vision/10_food_classes_10_percent.zip\n",
        "\n",
        "# Unzip the downloaded file.\n",
        "zip_ref = zipfile.ZipFile(\"10_food_classes_10_percent.zip\")\n",
        "zip_ref.extractall()\n",
        "zip_ref.close()"
      ],
      "execution_count": null,
      "outputs": [
        {
          "output_type": "stream",
          "name": "stdout",
          "text": [
            "--2021-11-17 08:15:42--  https://storage.googleapis.com/ztm_tf_course/food_vision/10_food_classes_10_percent.zip\n",
            "Resolving storage.googleapis.com (storage.googleapis.com)... 209.85.234.128, 108.177.112.128, 172.217.212.128, ...\n",
            "Connecting to storage.googleapis.com (storage.googleapis.com)|209.85.234.128|:443... connected.\n",
            "HTTP request sent, awaiting response... 200 OK\n",
            "Length: 168546183 (161M) [application/zip]\n",
            "Saving to: ‘10_food_classes_10_percent.zip’\n",
            "\n",
            "10_food_classes_10_ 100%[===================>] 160.74M   137MB/s    in 1.2s    \n",
            "\n",
            "2021-11-17 08:15:43 (137 MB/s) - ‘10_food_classes_10_percent.zip’ saved [168546183/168546183]\n",
            "\n"
          ]
        }
      ]
    },
    {
      "cell_type": "code",
      "metadata": {
        "colab": {
          "base_uri": "https://localhost:8080/"
        },
        "id": "FuxEKQWldM6X",
        "outputId": "7a38fa83-6721-4701-85e9-b40d9f747146"
      },
      "source": [
        "# How many images are there in each folder ?\n",
        "import os \n",
        "\n",
        "# Walk through 10 percent data directory and list the number of files.\n",
        "for dirpath, dirnames, filenames in os.walk(\"10_food_classes_10_percent\"):\n",
        "  print(f'There are {len(dirnames)} directories and {len(filenames)} images in {dirpath}')"
      ],
      "execution_count": null,
      "outputs": [
        {
          "output_type": "stream",
          "name": "stdout",
          "text": [
            "There are 2 directories and 0 images in 10_food_classes_10_percent\n",
            "There are 10 directories and 0 images in 10_food_classes_10_percent/train\n",
            "There are 0 directories and 75 images in 10_food_classes_10_percent/train/chicken_curry\n",
            "There are 0 directories and 75 images in 10_food_classes_10_percent/train/fried_rice\n",
            "There are 0 directories and 75 images in 10_food_classes_10_percent/train/pizza\n",
            "There are 0 directories and 75 images in 10_food_classes_10_percent/train/steak\n",
            "There are 0 directories and 75 images in 10_food_classes_10_percent/train/chicken_wings\n",
            "There are 0 directories and 75 images in 10_food_classes_10_percent/train/sushi\n",
            "There are 0 directories and 75 images in 10_food_classes_10_percent/train/hamburger\n",
            "There are 0 directories and 75 images in 10_food_classes_10_percent/train/grilled_salmon\n",
            "There are 0 directories and 75 images in 10_food_classes_10_percent/train/ramen\n",
            "There are 0 directories and 75 images in 10_food_classes_10_percent/train/ice_cream\n",
            "There are 10 directories and 0 images in 10_food_classes_10_percent/test\n",
            "There are 0 directories and 250 images in 10_food_classes_10_percent/test/chicken_curry\n",
            "There are 0 directories and 250 images in 10_food_classes_10_percent/test/fried_rice\n",
            "There are 0 directories and 250 images in 10_food_classes_10_percent/test/pizza\n",
            "There are 0 directories and 250 images in 10_food_classes_10_percent/test/steak\n",
            "There are 0 directories and 250 images in 10_food_classes_10_percent/test/chicken_wings\n",
            "There are 0 directories and 250 images in 10_food_classes_10_percent/test/sushi\n",
            "There are 0 directories and 250 images in 10_food_classes_10_percent/test/hamburger\n",
            "There are 0 directories and 250 images in 10_food_classes_10_percent/test/grilled_salmon\n",
            "There are 0 directories and 250 images in 10_food_classes_10_percent/test/ramen\n",
            "There are 0 directories and 250 images in 10_food_classes_10_percent/test/ice_cream\n"
          ]
        }
      ]
    },
    {
      "cell_type": "markdown",
      "metadata": {
        "id": "b9ilFbOgfKDn"
      },
      "source": [
        "# Creating data loaders (Prepare the data)\n",
        "\n",
        "We will use the **ImageDataGenerator** class to load our images in batches."
      ]
    },
    {
      "cell_type": "code",
      "metadata": {
        "colab": {
          "base_uri": "https://localhost:8080/"
        },
        "id": "eEoFMGWHf5YL",
        "outputId": "05d7e12e-fa9f-44f2-e380-7bec2f8a7692"
      },
      "source": [
        "# Setup data inputs\n",
        "from tensorflow.keras.preprocessing.image import ImageDataGenerator\n",
        "\n",
        "IMAGE_SHAPE= (224,224)\n",
        "BATCH_SIZE = 32\n",
        " \n",
        "train_dir = \"10_food_classes_10_percent/train/\"\n",
        "test_dir = \"10_food_classes_10_percent/test/\"\n",
        "\n",
        "train_datagen = ImageDataGenerator(rescale=1/255.)\n",
        "test_datagen = ImageDataGenerator(rescale=1/255.)\n",
        "\n",
        "print(\"Training Images :\")\n",
        "train_data_10_percent = train_datagen.flow_from_directory(train_dir,\n",
        "                                                          target_size = IMAGE_SHAPE,\n",
        "                                                          batch_size = BATCH_SIZE,\n",
        "                                                          class_mode = \"categorical\")\n",
        "\n",
        "print(\"Test Images\")\n",
        "test_data = test_datagen.flow_from_directory(test_dir,\n",
        "                                             target_size = IMAGE_SHAPE,\n",
        "                                             batch_size = BATCH_SIZE,\n",
        "                                             class_mode = \"categorical\")"
      ],
      "execution_count": null,
      "outputs": [
        {
          "output_type": "stream",
          "name": "stdout",
          "text": [
            "Training Images :\n",
            "Found 750 images belonging to 10 classes.\n",
            "Test Images\n",
            "Found 2500 images belonging to 10 classes.\n"
          ]
        }
      ]
    },
    {
      "cell_type": "markdown",
      "metadata": {
        "id": "V0j4NHswiwo7"
      },
      "source": [
        "## Setting up callbacks (things to run whilst our model trains)\n",
        "\n",
        "Callbacks are extra functionality that you can add to your model to be performed during or after training. Some of the most popular callbacks:\n",
        "* Tracking experiment with TensorBoard callback.\n",
        "* Model checkpoint with the ModelCheckPoint callback.\n",
        "* Stopping a model from training (before it trains too long nad overfits) with the EarlyStopping callback.\n"
      ]
    },
    {
      "cell_type": "code",
      "metadata": {
        "id": "lbe2ZwhUkWtK"
      },
      "source": [
        "# Create TensorBoard callback (functionized because we need to create a new one for each model)\n",
        "import datetime\n",
        "\n",
        "def create_tensorboard_callback(dir_name, experiment_name):\n",
        "  log_dir = dir_name + \"/\" + experiment_name + \"/\" + datetime.datetime.now().strftime(\"%Y%m%d-%H%M%S\")\n",
        "  tensorboard_callback = tf.keras.callbacks.TensorBoard(log_dir=log_dir)\n",
        "  print(f'Saving TensorBoard log files to: {log_dir}')\n",
        "  return tensorboard_callback"
      ],
      "execution_count": null,
      "outputs": []
    },
    {
      "cell_type": "markdown",
      "metadata": {
        "id": "RXbM5Hc1nZyi"
      },
      "source": [
        "## Creating models using TensorFlow Hub.\n",
        "\n",
        "In the past we have used TensorFlow to create our own models layer by layer from scratch.\n",
        "\n",
        "Now we are going to do the similar process, except the majority of our model's layers are going to come from TensorFlow Hub.\n",
        "\n",
        "We can access pretrained models on \"https://www.tensorflow.org/hub\"\n",
        "\n",
        "Browsing the TensorFlow Hub page and sorting for Image classification, we found the following Feature Vector model link : https://tfhub.dev/google/efficientnet/b0/feature-vector/1\n",
        "\n"
      ]
    },
    {
      "cell_type": "code",
      "metadata": {
        "id": "E0gn2wsKp0Hn"
      },
      "source": [
        "# Let's compare the following 2 models :\n",
        "resnet_url = \"https://tfhub.dev/google/imagenet/resnet_v2_50/feature_vector/4\"\n",
        "efficientnet_url = \"https://tfhub.dev/google/efficientnet/b0/feature-vector/1\"\n",
        "\n",
        "\n"
      ],
      "execution_count": null,
      "outputs": []
    },
    {
      "cell_type": "code",
      "metadata": {
        "id": "n8xQc6K1MLuk"
      },
      "source": [
        "# Import Dependencies\n",
        "import tensorflow as tf\n",
        "import tensorflow_hub as hub\n",
        "from tensorflow.keras import layers\n"
      ],
      "execution_count": null,
      "outputs": []
    },
    {
      "cell_type": "code",
      "metadata": {
        "id": "ivxlgsnGMy6x"
      },
      "source": [
        "# Let's make a create_model() function to create a model from URL\n",
        "def create_model(model_url, num_classes=10):\n",
        "  \"\"\"\n",
        "  Takes a TensorFlow Hub URL and creates a Keras Sequential model with it.\n",
        "\n",
        "  Args :\n",
        "    model_url(str) :  A TensorFlow Hub Feature Extraction URL.\n",
        "    num_classes (int) : Number of output neurons in the output layer,\n",
        "    should be equal to number of target classes, default 10.\n",
        "\n",
        "  Returns :\n",
        "    An uncompiled Keras Sequential model with model_url as feature extractor\n",
        "    layer and Dense Output layer with num_classes output neurons.\n",
        "\n",
        "  \"\"\"\n",
        "  # Download the pre-trained model and save it as a Keras layer.\n",
        "  feature_extractor_layer = hub.KerasLayer(model_url,\n",
        "                                          trainable=False, # Freeze the already learnt patterns.\n",
        "                                          name=\"feature_extraction_layer\",\n",
        "                                          input_shape = IMAGE_SHAPE + (3,))\n",
        "  \n",
        "  # Create our own model\n",
        "  model = tf.keras.Sequential([\n",
        "          feature_extractor_layer,\n",
        "          layers.Dense(num_classes, activation=\"softmax\", name=\"output_layer\")\n",
        "  ])\n",
        "\n",
        "  return model\n"
      ],
      "execution_count": null,
      "outputs": []
    },
    {
      "cell_type": "markdown",
      "metadata": {
        "id": "3INwyhwpP479"
      },
      "source": [
        "## Creating and Testing ResNet TensorFlow Hub Feature Extraction model."
      ]
    },
    {
      "cell_type": "code",
      "metadata": {
        "id": "uBrO5ZlnSdxh"
      },
      "source": [
        "# Create ResNet model\n",
        "resnet_model = create_model(resnet_url, num_classes=train_data_10_percent.num_classes)"
      ],
      "execution_count": null,
      "outputs": []
    },
    {
      "cell_type": "code",
      "metadata": {
        "colab": {
          "base_uri": "https://localhost:8080/"
        },
        "id": "jaH7jJCOcom0",
        "outputId": "4cfedac8-ca32-4446-c4e0-a2f93a4d3163"
      },
      "source": [
        "resnet_model.summary()"
      ],
      "execution_count": null,
      "outputs": [
        {
          "output_type": "stream",
          "name": "stdout",
          "text": [
            "Model: \"sequential\"\n",
            "_________________________________________________________________\n",
            " Layer (type)                Output Shape              Param #   \n",
            "=================================================================\n",
            " feature_extraction_layer (K  (None, 2048)             23564800  \n",
            " erasLayer)                                                      \n",
            "                                                                 \n",
            " output_layer (Dense)        (None, 10)                20490     \n",
            "                                                                 \n",
            "=================================================================\n",
            "Total params: 23,585,290\n",
            "Trainable params: 20,490\n",
            "Non-trainable params: 23,564,800\n",
            "_________________________________________________________________\n"
          ]
        }
      ]
    },
    {
      "cell_type": "code",
      "metadata": {
        "id": "Ka913kvkc67M"
      },
      "source": [
        "# Compile our ResNet model\n",
        "resnet_model.compile(loss=\"categorical_crossentropy\",\n",
        "                    optimizer=tf.keras.optimizers.Adam(),\n",
        "                    metrics=[\"accuracy\"])"
      ],
      "execution_count": null,
      "outputs": []
    },
    {
      "cell_type": "code",
      "metadata": {
        "colab": {
          "base_uri": "https://localhost:8080/"
        },
        "id": "MJnEH9uWdh-8",
        "outputId": "fa7ee792-65ad-4572-e0b5-5fd7188320ec"
      },
      "source": [
        "# Let's fit our ResNet model to the data (10 percent of 10 classes)\n",
        "resnet_history = resnet_model.fit(train_data_10_percent,\n",
        "                                  epochs=5,\n",
        "                                  steps_per_epoch=len(train_data_10_percent),\n",
        "                                  validation_data=test_data,\n",
        "                                  validation_steps=len(test_data),\n",
        "                                  callbacks=[create_tensorboard_callback(dir_name=\"tensorflow-hub\",\n",
        "                                                                         experiment_name=\"resnet50v2\",\n",
        "                                                                         )])\n"
      ],
      "execution_count": null,
      "outputs": [
        {
          "output_type": "stream",
          "name": "stdout",
          "text": [
            "Saving TensorBoard log files to: tensorflow-hub/resnet50v2/20211117-081601\n",
            "Epoch 1/5\n",
            "24/24 [==============================] - 59s 1s/step - loss: 1.7765 - accuracy: 0.4107 - val_loss: 1.1104 - val_accuracy: 0.6592\n",
            "Epoch 2/5\n",
            "24/24 [==============================] - 22s 921ms/step - loss: 0.8288 - accuracy: 0.7507 - val_loss: 0.8188 - val_accuracy: 0.7396\n",
            "Epoch 3/5\n",
            "24/24 [==============================] - 21s 915ms/step - loss: 0.5811 - accuracy: 0.8280 - val_loss: 0.7604 - val_accuracy: 0.7512\n",
            "Epoch 4/5\n",
            "24/24 [==============================] - 21s 917ms/step - loss: 0.4539 - accuracy: 0.8773 - val_loss: 0.7238 - val_accuracy: 0.7620\n",
            "Epoch 5/5\n",
            "24/24 [==============================] - 21s 908ms/step - loss: 0.3678 - accuracy: 0.9053 - val_loss: 0.6820 - val_accuracy: 0.7680\n"
          ]
        }
      ]
    },
    {
      "cell_type": "code",
      "metadata": {
        "id": "IMU6F1yCjEa5"
      },
      "source": [
        " # Let's create a function to plot loss curves.\n",
        " import matplotlib.pyplot as plt\n",
        "\n",
        " # Plot the validation and training curves.\n",
        " def plot_loss_curves(history):\n",
        "   \n",
        "   \"\"\"\n",
        "   Returns seperate loss curves for training and validation metrics.\n",
        "\n",
        "   Args :\n",
        "      history : TensorFlow history object.\n",
        "\n",
        "   Returns :\n",
        "      Plot of training/validation loss and accuracy metrics.\n",
        "\n",
        "   \"\"\"\n",
        "   loss = history.history[\"loss\"]\n",
        "   val_loss = history.history[\"val_loss\"]\n",
        "\n",
        "   accuracy = history.history[\"accuracy\"]\n",
        "   val_accuracy = history.history[\"val_accuracy\"]\n",
        "\n",
        "   epochs = range(len(history.history[\"loss\"]))\n",
        "\n",
        "   # Plot loss\n",
        "   plt.plot(epochs, loss, label=\"Training_loss\")\n",
        "   plt.plot(epochs, val_loss, label=\"Validation_loss\")\n",
        "   plt.title(\"Loss\")\n",
        "   plt.xlabel(\"Epochs\")\n",
        "   plt.legend();\n",
        "\n",
        "   # Plot accuracy\n",
        "   plt.figure()\n",
        "   plt.plot(epochs, accuracy, label=\"Training_accuracy\")\n",
        "   plt.plot(epochs, val_accuracy, label=\"Validation_accuracy\")\n",
        "   plt.title(\"Accuracy\")\n",
        "   plt.xlabel(\"Epochs\")\n",
        "   plt.legend();\n",
        "\n",
        "\n"
      ],
      "execution_count": null,
      "outputs": []
    },
    {
      "cell_type": "code",
      "metadata": {
        "colab": {
          "base_uri": "https://localhost:8080/",
          "height": 573
        },
        "id": "RUUg5sD0tYRK",
        "outputId": "880024d3-07e2-4333-db74-373f4dc1c57a"
      },
      "source": [
        "plot_loss_curves(resnet_history)"
      ],
      "execution_count": null,
      "outputs": [
        {
          "output_type": "display_data",
          "data": {
            "image/png": "[encoded data removed]",
            "text/plain": [
              "<Figure size 432x288 with 1 Axes>"
            ]
          },
          "metadata": {
            "needs_background": "light"
          }
        },
        {
          "output_type": "display_data",
          "data": {
            "image/png": "[encoded data removed]",
            "text/plain": [
              "<Figure size 432x288 with 1 Axes>"
            ]
          },
          "metadata": {
            "needs_background": "light"
          }
        }
      ]
    },
    {
      "cell_type": "markdown",
      "metadata": {
        "id": "nhn97vw0t7mR"
      },
      "source": [
        "## Creating and Testing EfficientNet B0 TensorFlow Hub Feature Extraction model."
      ]
    },
    {
      "cell_type": "code",
      "metadata": {
        "id": "3lp9USylv6f9"
      },
      "source": [
        "# Creating EfficientNet B0 model\n",
        "efficientnet_b0_model = create_model(efficientnet_url, num_classes=train_data_10_percent.num_classes)"
      ],
      "execution_count": null,
      "outputs": []
    },
    {
      "cell_type": "code",
      "metadata": {
        "id": "DaMIgOfLwWKd"
      },
      "source": [
        "# Compile our EfficientNet model\n",
        "efficientnet_b0_model.compile(loss=\"categorical_crossentropy\",\n",
        "                              optimizer=tf.keras.optimizers.Adam(),\n",
        "                              metrics=[\"accuracy\"])"
      ],
      "execution_count": null,
      "outputs": []
    },
    {
      "cell_type": "code",
      "metadata": {
        "colab": {
          "base_uri": "https://localhost:8080/"
        },
        "id": "Eoczm_IqwtGY",
        "outputId": "cd9eacb6-329b-4398-faee-3b0ee3a9acd8"
      },
      "source": [
        "# Let's fit our ResNet model to the data (10 percent of 10 classes)\n",
        "efficientnet_b0_history = efficientnet_b0_model.fit(train_data_10_percent,\n",
        "                                                    epochs=5,\n",
        "                                                    steps_per_epoch=len(train_data_10_percent),\n",
        "                                                    validation_data=test_data,\n",
        "                                                    validation_steps=len(test_data),\n",
        "                                                    callbacks=[create_tensorboard_callback(dir_name=\"tensorflow_hub\",\n",
        "                                                               experiment_name=\"efficientnetb0\")])\n",
        "                                                    \n"
      ],
      "execution_count": null,
      "outputs": [
        {
          "output_type": "stream",
          "name": "stdout",
          "text": [
            "Saving TensorBoard log files to: tensorflow_hub/efficientnetb0/20211117-081831\n",
            "Epoch 1/5\n",
            "24/24 [==============================] - 25s 871ms/step - loss: 1.8389 - accuracy: 0.4627 - val_loss: 1.3059 - val_accuracy: 0.7280\n",
            "Epoch 2/5\n",
            "24/24 [==============================] - 19s 800ms/step - loss: 1.0503 - accuracy: 0.7773 - val_loss: 0.8746 - val_accuracy: 0.8072\n",
            "Epoch 3/5\n",
            "24/24 [==============================] - 18s 791ms/step - loss: 0.7537 - accuracy: 0.8240 - val_loss: 0.7033 - val_accuracy: 0.8416\n",
            "Epoch 4/5\n",
            "24/24 [==============================] - 18s 792ms/step - loss: 0.6069 - accuracy: 0.8573 - val_loss: 0.6157 - val_accuracy: 0.8572\n",
            "Epoch 5/5\n",
            "24/24 [==============================] - 18s 791ms/step - loss: 0.5144 - accuracy: 0.8787 - val_loss: 0.5633 - val_accuracy: 0.8628\n"
          ]
        }
      ]
    },
    {
      "cell_type": "code",
      "metadata": {
        "colab": {
          "base_uri": "https://localhost:8080/",
          "height": 573
        },
        "id": "N4iVjbNWx9rc",
        "outputId": "f54c81a8-3ae1-41db-ebe8-72e652347f8c"
      },
      "source": [
        "plot_loss_curves(efficientnet_b0_history)"
      ],
      "execution_count": null,
      "outputs": [
        {
          "output_type": "display_data",
          "data": {
            "image/png": "[encoded data removed]",
            "text/plain": [
              "<Figure size 432x288 with 1 Axes>"
            ]
          },
          "metadata": {
            "needs_background": "light"
          }
        },
        {
          "output_type": "display_data",
          "data": {
            "image/png": "[encoded data removed]",
            "text/plain": [
              "<Figure size 432x288 with 1 Axes>"
            ]
          },
          "metadata": {
            "needs_background": "light"
          }
        }
      ]
    },
    {
      "cell_type": "markdown",
      "metadata": {
        "id": "7pznONhTzSj8"
      },
      "source": [
        "## Different types of Transfer Learning\n",
        "\n",
        "*  **As is Transfer Learning**  - using an existing model with no changes whatsoever (eg: Using ImageNet model on 1000 ImageNet classes, none of your own).\n",
        "*  **Feature Extraction Transfer Learning** - Use the pre-learned patterns of an existing model (eg: EfficientNet B0 trained on ImageNet) and adjust the output layer for your own problem(eg: 1000 classes->10 classes of food)\n",
        "* **Fine-Tuning Transfer Learning** - Use the pre-learned patterns of an existing model and fine-tune many or all of the underlying layers (including new output layers)."
      ]
    },
    {
      "cell_type": "markdown",
      "metadata": {
        "id": "tTmmn7cD-7_8"
      },
      "source": [
        "### Comparing our models results using TensorBoard.\n",
        "\n",
        "> **Note :** When you upload things to TensorBoard Dev, your experiments are public. So, if you're running private experiments,\n",
        "(things you don't want others to see) don't upload them to TensorBoard Dev"
      ]
    },
    {
      "cell_type": "code",
      "metadata": {
        "colab": {
          "base_uri": "https://localhost:8080/"
        },
        "id": "4_yTKengFVAI",
        "outputId": "9cc9a778-0559-4398-90b1-7162dd381738"
      },
      "source": [
        "# Upload TensorBoard Dev records.\n",
        "!tensorboard dev upload --logdir ./tensorflow_hub/ \\\n",
        "  --name \"EffcientNetB0 v/s ResNet50V2\" \\\n",
        "  --description \"Comparing two different TF Hub feature extraction model architectures using 10% of the training data\" \\\n",
        "  --one_shot\n"
      ],
      "execution_count": null,
      "outputs": [
        {
          "output_type": "stream",
          "name": "stdout",
          "text": [
            "\n",
            "***** TensorBoard Uploader *****\n",
            "\n",
            "This will upload your TensorBoard logs to https://tensorboard.dev/ from\n",
            "the following directory:\n",
            "\n",
            "./tensorflow_hub/\n",
            "\n",
            "This TensorBoard will be visible to everyone. Do not upload sensitive\n",
            "data.\n",
            "\n",
            "Your use of this service is subject to Google's Terms of Service\n",
            "<https://policies.google.com/terms> and Privacy Policy\n",
            "<https://policies.google.com/privacy>, and TensorBoard.dev's Terms of Service\n",
            "<https://tensorboard.dev/policy/terms/>.\n",
            "\n",
            "This notice will not be shown again while you are logged into the uploader.\n",
            "To log out, run `tensorboard dev auth revoke`.\n",
            "\n",
            "Continue? (yes/NO) yes\n",
            "\n",
            "Please visit this URL to authorize this application: https://accounts.google.com/o/oauth2/auth?response_type=code&client_id=373649185512-8v619h5kft38l4456nm2dj4ubeqsrvh6.apps.googleusercontent.com&redirect_uri=urn%3Aietf%3Awg%3Aoauth%3A2.0%3Aoob&scope=openid+https%3A%2F%2Fwww.googleapis.com%2Fauth%2Fuserinfo.email&state=EQO9vVVYOo2F4qXs1hjUnTFpFGNfoj&prompt=consent&access_type=offline\n",
            "Enter the authorization code: 4/1AX4XfWir3fgIR7WHKjwTIfzcT_c0acic-9IYLIIpHeQLJYQ-IIwpuJWPdUY\n",
            "\n",
            "\n",
            "New experiment created. View your TensorBoard at: https://tensorboard.dev/experiment/zbleW45lTjKhARLflDw8NQ/\n",
            "\n",
            "\u001b[1m[2021-11-17T08:56:05]\u001b[0m Started scanning logdir.\n",
            "\u001b[1m[2021-11-17T08:56:05]\u001b[0m Total uploaded: 30 scalars, 0 tensors, 1 binary objects (1.4 MB)\n",
            "\u001b[1m[2021-11-17T08:56:05]\u001b[0m Done scanning logdir.\n",
            "\n",
            "\n",
            "Done. View your TensorBoard at https://tensorboard.dev/experiment/zbleW45lTjKhARLflDw8NQ/\n"
          ]
        }
      ]
    },
    {
      "cell_type": "markdown",
      "metadata": {
        "id": "mXYDLSeOG7mR"
      },
      "source": [
        "Our TensorBoard experiments are uploaded publically here : https://tensorboard.dev/experiment/zbleW45lTjKhARLflDw8NQ/"
      ]
    },
    {
      "cell_type": "code",
      "metadata": {
        "colab": {
          "base_uri": "https://localhost:8080/"
        },
        "id": "UmHng_LUHcph",
        "outputId": "ebf5381d-1118-4fca-ca9a-20befe15bb9a"
      },
      "source": [
        "# Check out what TensorBoard experiments you have.\n",
        "!tensorboard dev list"
      ],
      "execution_count": null,
      "outputs": [
        {
          "output_type": "stream",
          "name": "stdout",
          "text": [
            "https://tensorboard.dev/experiment/zbleW45lTjKhARLflDw8NQ/\n",
            "\tName                 EffcientNetB0 v/s ResNet50V2\n",
            "\tDescription          Comparing two different TF Hub feature extraction model architectures using 10% of the training data\n",
            "\tId                   zbleW45lTjKhARLflDw8NQ\n",
            "\tCreated              2021-11-17 08:56:05 (10 minutes ago)\n",
            "\tUpdated              2021-11-17 08:56:05 (10 minutes ago)\n",
            "\tRuns                 2\n",
            "\tTags                 5\n",
            "\tScalars              30\n",
            "\tTensor bytes         0\n",
            "\tBinary object bytes  1420772\n",
            "Total: 1 experiment(s)\n"
          ]
        }
      ]
    },
    {
      "cell_type": "code",
      "metadata": {
        "colab": {
          "base_uri": "https://localhost:8080/",
          "height": 35
        },
        "id": "0k8ETZzlI6Js",
        "outputId": "f3f57856-3ed5-412b-9a79-746dfaba1a0f"
      },
      "source": [
        "# Delete an experiment (which you don't want to show publically)\n",
        "\n",
        "\"\"\"\n",
        "!tensorboard dev delete --experiment_id zbleW45lTjKhARLflDw8NQ\n",
        "\"\"\""
      ],
      "execution_count": null,
      "outputs": [
        {
          "output_type": "execute_result",
          "data": {
            "application/vnd.google.colaboratory.intrinsic+json": {
              "type": "string"
            },
            "text/plain": [
              "'\\n!tensorboard dev delete --experiment_id zbleW45lTjKhARLflDw8NQ\\n'"
            ]
          },
          "metadata": {},
          "execution_count": 23
        }
      ]
    },
    {
      "cell_type": "code",
      "metadata": {
        "id": "WdT9oSpjJdpn"
      },
      "source": [
        ""
      ],
      "execution_count": null,
      "outputs": []
    }
  ]
}